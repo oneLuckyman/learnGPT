with open("../MakeMore/names.txt") as f:
    words = f.read().splitlines()


words


b = {}
for w in words:
    chs = ['<S>'] + list(w) + ['<E>']
    for ch1, ch2 in zip(chs, chs[1:]):
        bigram = (ch1, ch2)
        b[bigram] = b.get(bigram, 0) + 1


(b.items())



